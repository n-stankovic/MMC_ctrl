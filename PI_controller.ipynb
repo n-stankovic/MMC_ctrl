{
 "cells": [
  {
   "cell_type": "markdown",
   "metadata": {},
   "source": [
    "<h><font color = black size=4><center> **PI controller design for MMC current control loops**</center></font></h>"
   ]
  },
  {
   "cell_type": "markdown",
   "metadata": {},
   "source": [
    "Consider the following grid current and differential current equations (three-phase notation is omitted): <br>\n",
    "\n",
    "$$\\left(\\frac{L_{arm}}{2}+L_g\\right)\\frac{di_g}{dt}+\\left(\\frac{R_{arm}}{2}+R_g\\right)i_g=v_{s}-v_g$$ <br>\n",
    "$$L_{arm}\\frac{di_{diff}}{dt}+R_{arm}i_{diff}=v_{diff}$$ <br>\n",
    "\n",
    "For the following Clarke and Park transformation matrices:<br>\n",
    "\n",
    "$$K_c=\\sqrt{\\frac{2}{3}}\\begin{bmatrix} 1 & -\\frac{1}{2} & -\\frac{1}{2}\\\\ 0 & \\frac{\\sqrt{3}}{2} & \\frac{\\sqrt{3}}{2} \\\\ \\frac{1}{\\sqrt{2}} & \\frac{1}{\\sqrt{2}} & \\frac{1}{\\sqrt{2}}\\end{bmatrix},   \\quad  K_p=\\begin{bmatrix} \\cos{\\theta} & \\sin{\\theta} & 0\\\\ -\\sin{\\theta} & \\cos{\\theta} & 0 \\\\ 0 & 0 & 1\\end{bmatrix},$$\n",
    "\n",
    "grid current equation can be written in the dq rotating frame as:<br>\n",
    "\n",
    "$$\\left(\\frac{L_{arm}}{2}+L_g\\right)\\frac{di_{gd}}{dt}+\\left(\\frac{R_{arm}}{2}+R_g\\right)i_{gd}=v_{sd}-\\color{red}{v_{gd}}+\\color{red}{\\omega\\left(\\frac{L_{arm}}{2}+L_g\\right)i_{gq}}$$ <br>\n",
    "$$\\left(\\frac{L_{arm}}{2}+L_g\\right)\\frac{di_{gq}}{dt}+\\left(\\frac{R_{arm}}{2}+R_g\\right)i_{gq}=v_{sq}-\\color{red}{v_{gq}}-\\color{red}{\\omega\\left(\\frac{L_{arm}}{2}+L_g\\right)i_{gd}}$$ <br>\n",
    "\n",
    "while the differential current equation can be written in the dq rotating frame as:<br>\n",
    "\n",
    "$$L_{arm}\\frac{di_{diffd}}{dt}+R_{arm}i_{diffd}=v_{diffd}+\\color{red}{\\omega L_{arm}i_{diffq}}$$ <br>\n",
    "$$L_{arm}\\frac{di_{diffq}}{dt}+R_{arm}i_{diffq}=v_{diffq}-\\color{red}{\\omega L_{arm}i_{diffd}}$$ <br>\n",
    "\n",
    "Terms in red will be considered as measurable additive disturbances. Taking this into account, the open-loop transfer functions for the grid current and differential current equations are given as:<br>\n",
    "\n",
    "$$W_{g(ol)}(s)=\\frac{I_{g}(s)}{V_{s}(s)}=\\frac{1}{s\\left(\\frac{L_{arm}}{2}+L_g\\right)+\\left(\\frac{R_{arm}}{2}+R_g\\right)}$$<br>\n",
    "\n",
    "$$W_{diff(ol)}(s)=\\frac{I_{diff}}{V_{diff}}=\\frac{1}{sL_{arm}+R_{arm}}$$<br>\n",
    "\n",
    "For PI controller $PI_g(s)=k_{pg}+k_{ig}\\frac{1}{s}$ and $PI_{diff}(s)=k_{pdiff}+k_{idiff}\\frac{1}{s}$, the closed-loop equations are given as follows:<br>\n",
    "\n",
    "$$W_{g(cl)}(s)=\\frac{I_{g}(s)}{I_{g}^{ref}(s)}=\\frac{W_{g(ol)}PI_g}{1+W_{g(ol)}PI_{g}}=\\frac{s\\frac{k_p}{k_i}+1}{s^2\\frac{\\left(\\frac{L_{arm}}{2}+L_g\\right)}{k_{ig}}+s\\frac{\\left(\\frac{R_{arm}}{2}+R_g+k_{pg}\\right)}{k_{ig}}+1}$$<br>\n",
    "\n",
    "$$W_{diff(cl)}(s)=\\frac{I_{diff}(s)}{I_{diff}^{ref}(s)}=\\frac{W_{diff(ol)}PI_{diff}}{1+W_{diff(ol)}PI_{diff}}=\\frac{s\\frac{k_p}{k_i}+1}{s^2\\frac{L_{arm}}{k_i}+s\\frac{\\left(R_{arm}+k_p\\right)}{k_i}+1}$$<br>\n",
    "\n",
    "For general form of as second-order dynamic equation $P(s)=1+\\frac{2\\zeta}{\\omega_n}s+\\frac{1}{\\omega_n^2}s^2$, controller gains are given as:<br>\n",
    "\n",
    "$$k_{ig}=\\left(\\frac{L_{arm}}{2}+L_g\\right)\\omega_n^2$$<br>\n",
    "$$k_{pg}=2\\zeta\\omega_n\\left(\\frac{L_{arm}}{2}+L_g\\right)-\\left(\\frac{R_{arm}}{2}+R_g\\right)$$<br>\n",
    "\n",
    "$$k_{idiff}=L_{arm}\\omega_n^2$$<br>\n",
    "$$k_{pdiff}=2\\zeta\\omega_nL_{arm}-R_{arm}$$<br>\n",
    "\n",
    "Natural frequancy is given as function of the response time $\\omega_n=\\frac{4}{t_{r5\\%}}$ (time it takes for signal to achieve 0.95% of the settling time).<br>\n",
    "\n",
    "Example: Consider an MMC with the following parameters:<br>\n",
    "\n",
    "$$L_{arm}=2.5mH$$<br>\n",
    "$$R_{arm}=0.1\\Omega$$<br>\n",
    "$$L_{g}=3.2mH$$<br>\n",
    "$$R_{g}=0.01mH$$<br>\n",
    "\n",
    "Response of the grid current and differential current control loop is given as follows:"
   ]
  },
  {
   "cell_type": "code",
   "execution_count": 100,
   "metadata": {},
   "outputs": [
    {
     "data": {
      "image/png": "[encoded data removed]",
      "text/plain": [
       "<matplotlib.figure.Figure at 0x24994aa4550>"
      ]
     },
     "metadata": {},
     "output_type": "display_data"
    }
   ],
   "source": [
    "import numpy as np\n",
    "from matplotlib import pyplot as plt\n",
    "\n",
    "L_arm = 0.0025\n",
    "R_arm = 0.1\n",
    "L_g = 0.0032\n",
    "R_g = 0.01\n",
    "\n",
    "t = np.arange(0,10,0.001)\n",
    "\n",
    "def step(t,step_time,initial,final):\n",
    "    a = np.array([])\n",
    "    for i in range(t.size):\n",
    "        if t[i] < step_time:\n",
    "            b = np.array([initial])\n",
    "        else:\n",
    "            b = np.array([final])\n",
    "        a = np.append(a,b)\n",
    "    return a\n",
    "\n",
    "step = step(t,1,0,2)\n",
    "\n",
    "# Syetem has to be discretized\n",
    "\n",
    "# plot1 = plt.plot(t,step)\n",
    "# plt.grid(color = 'silver')\n",
    "\n"
   ]
  },
  {
   "cell_type": "code",
   "execution_count": 95,
   "metadata": {},
   "outputs": [
    {
     "name": "stdout",
     "output_type": "stream",
     "text": [
      "[2]\n",
      "[1]\n",
      "[2 1]\n"
     ]
    },
    {
     "data": {
      "text/plain": [
       "numpy.ndarray"
      ]
     },
     "execution_count": 95,
     "metadata": {},
     "output_type": "execute_result"
    }
   ],
   "source": [
    "import numpy as np\n",
    "from matplotlib import pyplot as plt\n",
    "\n",
    "\n",
    "\n"
   ]
  },
  {
   "cell_type": "code",
   "execution_count": null,
   "metadata": {},
   "outputs": [],
   "source": []
  }
 ],
 "metadata": {
  "kernelspec": {
   "display_name": "Python 3",
   "language": "python",
   "name": "python3"
  },
  "language_info": {
   "codemirror_mode": {
    "name": "ipython",
    "version": 3
   },
   "file_extension": ".py",
   "mimetype": "text/x-python",
   "name": "python",
   "nbconvert_exporter": "python",
   "pygments_lexer": "ipython3",
   "version": "3.6.4"
  }
 },
 "nbformat": 4,
 "nbformat_minor": 2
}
